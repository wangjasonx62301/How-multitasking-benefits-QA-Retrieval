{
 "cells": [
  {
   "cell_type": "code",
   "execution_count": 1,
   "metadata": {},
   "outputs": [],
   "source": [
    "## folder path is the parent of MEOW_Utils's path\n",
    "folder_path = r'/kaggle/input/qwertttt' \n",
    "loaded_model_path = None \n",
    "loaded_opti_path = None "
   ]
  },
  {
   "cell_type": "code",
   "execution_count": null,
   "metadata": {},
   "outputs": [],
   "source": [
    "# ### IF run in colab \n",
    "# from google.colab import drive \n",
    "# drive.mount('/content/drive') \n",
    "# import sys \n",
    "# sys.path.append(folder_path) "
   ]
  },
  {
   "cell_type": "code",
   "execution_count": null,
   "metadata": {},
   "outputs": [],
   "source": [
    "# ### IF run in kaggle\n",
    "# import sys \n",
    "# sys.path.append(folder_path) "
   ]
  },
  {
   "cell_type": "code",
   "execution_count": 10,
   "metadata": {},
   "outputs": [],
   "source": [
    "from MEOW_Utils.SCRIPT import* \n",
    "from MEOW_Utils.Data_utils import* \n",
    "from MEOW_Utils.config import* "
   ]
  },
  {
   "cell_type": "code",
   "execution_count": 11,
   "metadata": {},
   "outputs": [
    {
     "name": "stdout",
     "output_type": "stream",
     "text": [
      "SET TOKENIZER successfully\n",
      "SET DATASET successfully\n",
      "Per epoc round's num is 435\n",
      "Per epoc round's num is 187\n"
     ]
    }
   ],
   "source": [
    "SCRIPT_SET_TOKENIZER() \n",
    "SCRIPT_SET_QAandSUP(check_data_loader=False, path = folder_path) \n",
    "SCRIP_GET_TRAINTEST_ROUND() "
   ]
  },
  {
   "cell_type": "code",
   "execution_count": 12,
   "metadata": {},
   "outputs": [
    {
     "name": "stderr",
     "output_type": "stream",
     "text": [
      "Some weights of the model checkpoint at bert-base-uncased were not used when initializing BertWithoutEmbedding: ['cls.seq_relationship.bias', 'cls.predictions.transform.LayerNorm.bias', 'cls.predictions.decoder.weight', 'cls.predictions.transform.dense.bias', 'cls.predictions.bias', 'cls.predictions.transform.dense.weight', 'cls.seq_relationship.weight', 'cls.predictions.transform.LayerNorm.weight']\n",
      "- This IS expected if you are initializing BertWithoutEmbedding from the checkpoint of a model trained on another task or with another architecture (e.g. initializing a BertForSequenceClassification model from a BertForPreTraining model).\n",
      "- This IS NOT expected if you are initializing BertWithoutEmbedding from the checkpoint of a model that you expect to be exactly identical (initializing a BertForSequenceClassification model from a BertForSequenceClassification model).\n"
     ]
    },
    {
     "name": "stdout",
     "output_type": "stream",
     "text": [
      "initial the model successfully\n"
     ]
    }
   ],
   "source": [
    "## if the do_mtl is True, then the model will run in multi-tasking\n",
    "## load the path's state dict \n",
    "model = SCRIPT_SET_MODEL(do_mtl=True, \n",
    "                         path = loaded_model_path, \n",
    "                         qa_optim_path = loaded_opti_path) \n",
    "# model "
   ]
  },
  {
   "cell_type": "code",
   "execution_count": null,
   "metadata": {},
   "outputs": [],
   "source": [
    "## use it if you only want to change the datasize of some dataset(dataframe) \n",
    "# create_CoLA_df(ORG_FILE_PATH_CoLA, tokenizer, data_size=CoLA_DATASIZE) \n",
    "# create_MNLI_df(ORG_FILE_PATH_MNLI, tokenizer, data_size=MNLI_DATASIZE) \n",
    "# create_SQuAD_df(ORG_FILE_PATH_SQuAD, tokenizer, data_size=SQuAD_DATASIZE) \n",
    "# create_QNLI_df(ORG_FILE_PATH_QNLI, tokenizer, data_size=QNLI_DATASIZE) \n",
    "# reate_RTE_df(r'C:\\Users\\Administrator\\codeblocks_workspace\\MEOW\\Dataset_infile\\RTE.csv',tokenizer,RTE_DATASIZE)"
   ]
  },
  {
   "cell_type": "code",
   "execution_count": null,
   "metadata": {},
   "outputs": [],
   "source": [
    "SCRIPT_TRAIN_SUPPORT(epoch_num=10)"
   ]
  },
  {
   "cell_type": "code",
   "execution_count": null,
   "metadata": {},
   "outputs": [],
   "source": [
    "SCRIPT_TRAIN_QA(epoch_num=25)"
   ]
  },
  {
   "cell_type": "code",
   "execution_count": null,
   "metadata": {},
   "outputs": [],
   "source": [
    "# SCRIPT_TRAIN_BOTH_SIMU(epoch_num=25)"
   ]
  },
  {
   "cell_type": "code",
   "execution_count": 7,
   "metadata": {},
   "outputs": [],
   "source": [
    "#### save the model parameters \n",
    "torch.save(model.state_dict(), 'model') \n",
    "torch.save(model.SQuAD_optimizer.state_dict(), 'qa_optimizer') "
   ]
  },
  {
   "cell_type": "code",
   "execution_count": null,
   "metadata": {},
   "outputs": [],
   "source": [
    "# #### Kaggle\n",
    "# #### run this and there will apper a link and point it then can download\n",
    "%cd /kaggle/working\n",
    "from IPython.display import FileLink \n",
    "FileLink(r'model') \n",
    "# FileLink(r'qa_optimizer')"
   ]
  },
  {
   "cell_type": "code",
   "execution_count": null,
   "metadata": {},
   "outputs": [],
   "source": [
    "#### Colab\n",
    "# from google.colab import files\n",
    "# files.download( \"/content/model1\" )\n",
    "# files.download('/content/optimizer')\n",
    "# while(1):\n",
    "#     0"
   ]
  },
  {
   "cell_type": "code",
   "execution_count": null,
   "metadata": {},
   "outputs": [],
   "source": [
    "#### know the f1 score of the model \n",
    "SCRIPT_EVALUATE_MODEL()"
   ]
  },
  {
   "cell_type": "code",
   "execution_count": null,
   "metadata": {},
   "outputs": [],
   "source": [
    "#### TEST \n",
    "context = \"aba\" \n",
    "question = \"hello\" \n",
    "\n",
    "SCRIPT_ACK_QUESTION(context,question) "
   ]
  }
 ],
 "metadata": {
  "kernelspec": {
   "display_name": "tensorflow",
   "language": "python",
   "name": "python3"
  },
  "language_info": {
   "codemirror_mode": {
    "name": "ipython",
    "version": 3
   },
   "file_extension": ".py",
   "mimetype": "text/x-python",
   "name": "python",
   "nbconvert_exporter": "python",
   "pygments_lexer": "ipython3",
   "version": "3.9.13"
  },
  "orig_nbformat": 4
 },
 "nbformat": 4,
 "nbformat_minor": 2
}
