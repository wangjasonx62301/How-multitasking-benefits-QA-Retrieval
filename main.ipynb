{
 "cells": [
  {
   "cell_type": "code",
   "execution_count": 1,
   "metadata": {},
   "outputs": [],
   "source": [
    "# import sys\n",
    "# sys.path.append('/kaggle/input/qwertttt')\n",
    "\n",
    "from MEOW_Utils.Data_utils import* \n",
    "from MEOW_Utils.config import* \n",
    "from MEOW_Utils.SCRIPT import* "
   ]
  },
  {
   "cell_type": "code",
   "execution_count": 2,
   "metadata": {},
   "outputs": [
    {
     "name": "stdout",
     "output_type": "stream",
     "text": [
      "SET CORRECTLY\n"
     ]
    }
   ],
   "source": [
    "SCRIPT_SET_TOKENIZER() "
   ]
  },
  {
   "cell_type": "code",
   "execution_count": 3,
   "metadata": {},
   "outputs": [
    {
     "name": "stdout",
     "output_type": "stream",
     "text": [
      "SET CORRECTLY\n",
      "Per epoc round's num is 1174\n",
      "Per epoc round's num is 504\n"
     ]
    }
   ],
   "source": [
    "SCRIPT_SET_QAandSUP(check_data_loader=False, run_in_kaggle=False) \n",
    "SCRIP_GET_TRAINTEST_ROUND() "
   ]
  },
  {
   "cell_type": "code",
   "execution_count": null,
   "metadata": {},
   "outputs": [],
   "source": [
    "## if the do_mtl is True, then the model will run in multi-tasking\n",
    "## load the path's state dict\n",
    "model = SCRIPT_SET_MODEL(do_mtl=True, \n",
    "                         path = None, \n",
    "                         qa_optim_path = None) \n",
    "model "
   ]
  },
  {
   "cell_type": "code",
   "execution_count": null,
   "metadata": {},
   "outputs": [],
   "source": [
    "## use it if you only want to change the datasize of some dataset(dataframe) \n",
    "\n",
    "# create_CoLA_df(ORG_FILE_PATH_CoLA, tokenizer, data_size=CoLA_DATASIZE) \n",
    "# create_MNLI_df(ORG_FILE_PATH_MNLI, tokenizer, data_size=MNLI_DATASIZE) \n",
    "# create_SQuAD_df(ORG_FILE_PATH_SQuAD, tokenizer, data_size=SQuAD_DATASIZE) \n",
    "# create_QNLI_df(ORG_FILE_PATH_QNLI, tokenizer, data_size=QNLI_DATASIZE) "
   ]
  },
  {
   "cell_type": "code",
   "execution_count": null,
   "metadata": {},
   "outputs": [],
   "source": [
    "SCRIPT_TRAIN_SUPPORT(epoch_num=10)  ## 8~15"
   ]
  },
  {
   "cell_type": "code",
   "execution_count": null,
   "metadata": {},
   "outputs": [],
   "source": [
    "SCRIPT_TRAIN_QA(epoch_num=25) ## 20 up"
   ]
  },
  {
   "cell_type": "code",
   "execution_count": null,
   "metadata": {},
   "outputs": [],
   "source": [
    "# SCRIPT_TRAIN_BOTH_SIMU(epoch_num=25)"
   ]
  },
  {
   "cell_type": "code",
   "execution_count": 7,
   "metadata": {},
   "outputs": [],
   "source": [
    "#### save the model parameters\n",
    "torch.save(model.state_dict(), 'model') \n",
    "torch.save(model.SQuAD_optimizer.state_dict(), 'qa_optimizer') "
   ]
  },
  {
   "cell_type": "code",
   "execution_count": null,
   "metadata": {},
   "outputs": [],
   "source": [
    "#### know the f1 score of the model \n",
    "SCRIPT_RUN_F1_score() "
   ]
  },
  {
   "cell_type": "code",
   "execution_count": null,
   "metadata": {},
   "outputs": [],
   "source": [
    "#### TEST \n",
    "\n",
    "context = \"aba\" \n",
    "question = \"hello\" \n",
    "\n",
    "SCRIPT_ACK_QUESTION(context,question) "
   ]
  }
 ],
 "metadata": {
  "kernelspec": {
   "display_name": "tensorflow",
   "language": "python",
   "name": "python3"
  },
  "language_info": {
   "codemirror_mode": {
    "name": "ipython",
    "version": 3
   },
   "file_extension": ".py",
   "mimetype": "text/x-python",
   "name": "python",
   "nbconvert_exporter": "python",
   "pygments_lexer": "ipython3",
   "version": "3.9.13"
  },
  "orig_nbformat": 4
 },
 "nbformat": 4,
 "nbformat_minor": 2
}
